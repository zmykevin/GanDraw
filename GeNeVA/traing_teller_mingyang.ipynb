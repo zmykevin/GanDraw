{
 "cells": [
  {
   "cell_type": "code",
   "execution_count": 1,
   "metadata": {},
   "outputs": [
    {
     "name": "stderr",
     "output_type": "stream",
     "text": [
      "/home/zmykevin/CoDraw_Gaugan/code/GeNeVA/geneva/utils/config.py:15: YAMLLoadWarning: calling yaml.load() without Loader=... is deprecated, as the default Loader is unsafe. Please read https://msg.pyyaml.org/load for full details.\n",
      "  keys = yaml.load(f)\n"
     ]
    }
   ],
   "source": [
    "%load_ext autoreload\n",
    "%autoreload 2\n",
    "import os\n",
    "import glob\n",
    "\n",
    "import torch\n",
    "from torch.utils.data import DataLoader\n",
    "import json # Added to initialize the setting in Jupyter Notebook-by Mingyang\n",
    "import easydict # Added to initialize the setting in Jupyter Notebook-by Mingyang\n",
    "import time\n",
    "\n",
    "from geneva.data.datasets import DATASETS\n",
    "from geneva.evaluation.evaluate import Evaluator\n",
    "from geneva.utils.config import keys, parse_config\n",
    "from geneva.utils.visualize import VisdomPlotter\n",
    "from geneva.models.models import MODELS\n",
    "from geneva.data import codraw_dataset\n",
    "from geneva.data import clevr_dataset\n",
    "from geneva.data import gandraw_dataset\n",
    "\n",
    "\n",
    "from geneva.models.teller_image_encoder import TellerImageEncoder\n",
    "import torch.nn as nn\n",
    "from torch.autograd import Variable\n",
    "import torch.optim as optim\n",
    "from torch.nn.utils.rnn import pack_padded_sequence"
   ]
  },
  {
   "cell_type": "code",
   "execution_count": 2,
   "metadata": {},
   "outputs": [],
   "source": [
    "config_file = \"example_args/gandraw_teller_args.json\"\n",
    "#Load the config_file\n",
    "with open(config_file, 'r') as f:\n",
    "    cfg = json.load(f)\n",
    "#convert cfg as easydict\n",
    "cfg = easydict.EasyDict(cfg)"
   ]
  },
  {
   "cell_type": "code",
   "execution_count": 3,
   "metadata": {},
   "outputs": [],
   "source": [
    "class Teller_Trainer():\n",
    "    def __init__(self, cfg):\n",
    "        img_path = os.path.join(cfg.log_path,\n",
    "                                cfg.exp_name,\n",
    "                                'train_images_*')\n",
    "        if glob.glob(img_path):\n",
    "            raise Exception('all directories with name train_images_* under '\n",
    "                            'the experiment directory need to be removed')\n",
    "        path = os.path.join(cfg.log_path, cfg.exp_name)\n",
    "        self.dataset = DATASETS[cfg.dataset](\n",
    "            path=keys[cfg.dataset], cfg=cfg, img_size=cfg.img_size)\n",
    "        #update the cfg's vocab_size\n",
    "        cfg.vocab_size = self.dataset.vocab_size\n",
    "        \n",
    "        self.dataloader = DataLoader(self.dataset,\n",
    "                                     batch_size=cfg.batch_size,\n",
    "                                     shuffle=False,\n",
    "                                     num_workers=cfg.num_workers,\n",
    "                                     pin_memory=True,\n",
    "                                     drop_last=True)\n",
    "        \n",
    "        if cfg.dataset in ['codraw', 'codrawDialog']:\n",
    "            self.dataloader.collate_fn = codraw_dataset.collate_data\n",
    "        elif cfg.dataset == \"gandraw\":\n",
    "            self.dataloader.collate_fn = gandraw_dataset.collate_data\n",
    "        \n",
    "        ####################Load the Model###################\n",
    "        assert cfg.gan_type == \"recurrent_gan_teller\", \"To run a teller trainer, you will need to use 'recurrent_gan_teller' as gan_type\"\n",
    "        self.model = MODELS[cfg.gan_type](cfg)\n",
    "        self.model.save_model(path, 0, 0)\n",
    "        #####################################################\n",
    "    \n",
    "        #Launch the visualizer\n",
    "        self.visualizer = VisdomPlotter(env_name=cfg.exp_name, server=cfg.vis_server)\n",
    "        self.logger = None\n",
    "\n",
    "        self.cfg = cfg\n",
    "    def train(self):\n",
    "        iteration_counter = 0\n",
    "        #print(\"Total number of training data: {}\".format(len(self.dataset)))\n",
    "        num_batches = len(self.dataloader)\n",
    "        total_iterations = num_batches * self.cfg.epochs\n",
    "        current_batch_time = 0 #Record the time it takes to process one batch\n",
    "        \n",
    "        for epoch in range(self.cfg.epochs):\n",
    "            if cfg.dataset in ['codraw', 'codrawDialog']:\n",
    "                self.dataset.shuffle()\n",
    "            for batch in self.dataloader:\n",
    "                if iteration_counter >= 0 and iteration_counter % self.cfg.save_rate == 0:\n",
    "                    print(\"Run Evaluation\")\n",
    "                    torch.cuda.empty_cache()\n",
    "                    #evaluator = TellerEvaluator(self.cfg, self.visualizer, self.logger)\n",
    "                    evaluator = Evaluator.factory(self.cfg, self.visualizer,\n",
    "                                                  self.logger)\n",
    "                    evaluator.evaluate(iteration_counter, self.model)\n",
    "                    del evaluator\n",
    "    \n",
    "                iteration_counter += 1\n",
    "                current_batch_start = time.time()\n",
    "                self.model.train_batch(batch,\n",
    "                                       epoch,\n",
    "                                       iteration_counter,\n",
    "                                       self.visualizer,\n",
    "                                       self.logger,\n",
    "                                       total_iters=total_iterations,\n",
    "                                       current_batch_t=current_batch_time\n",
    "                                      )\n",
    "                current_batch_time = time.time()-current_batch_start\n",
    "                #print(\"batch_time is: {}\".format(current_batch_time))\n",
    "                \n",
    "                #iteration_counter += 1\n",
    "                #torch.cuda.empty_cache()\n",
    "                return\n",
    "            \n",
    "        "
   ]
  },
  {
   "cell_type": "code",
   "execution_count": 4,
   "metadata": {},
   "outputs": [
    {
     "name": "stderr",
     "output_type": "stream",
     "text": [
      "Setting up a new session...\n"
     ]
    }
   ],
   "source": [
    "#Try the sample Trainer\n",
    "teller_trainer = Teller_Trainer(cfg)"
   ]
  },
  {
   "cell_type": "code",
   "execution_count": 5,
   "metadata": {},
   "outputs": [
    {
     "name": "stdout",
     "output_type": "stream",
     "text": [
      "Run Evaluation\n"
     ]
    },
    {
     "name": "stderr",
     "output_type": "stream",
     "text": [
      "/home/zmykevin/miniconda3/envs/geneva/lib/python3.6/site-packages/nltk/translate/bleu_score.py:523: UserWarning: \n",
      "The hypothesis contains 0 counts of 2-gram overlaps.\n",
      "Therefore the BLEU score evaluates to 0, independently of\n",
      "how many N-gram overlaps of lower order it contains.\n",
      "Consider using lower n-gram order or use SmoothingFunction()\n",
      "  warnings.warn(_msg)\n",
      "/home/zmykevin/miniconda3/envs/geneva/lib/python3.6/site-packages/nltk/translate/bleu_score.py:523: UserWarning: \n",
      "The hypothesis contains 0 counts of 3-gram overlaps.\n",
      "Therefore the BLEU score evaluates to 0, independently of\n",
      "how many N-gram overlaps of lower order it contains.\n",
      "Consider using lower n-gram order or use SmoothingFunction()\n",
      "  warnings.warn(_msg)\n",
      "/home/zmykevin/miniconda3/envs/geneva/lib/python3.6/site-packages/nltk/translate/bleu_score.py:523: UserWarning: \n",
      "The hypothesis contains 0 counts of 4-gram overlaps.\n",
      "Therefore the BLEU score evaluates to 0, independently of\n",
      "how many N-gram overlaps of lower order it contains.\n",
      "Consider using lower n-gram order or use SmoothingFunction()\n",
      "  warnings.warn(_msg)\n"
     ]
    },
    {
     "name": "stdout",
     "output_type": "stream",
     "text": [
      "BLEU-1: 0.000999866684442074, BLEU-2: 4.716754415426254e-156, BLEU-3: 9.103915478583816e-205, BLEU-4: 3.239618333502214e-232\n",
      "val_loss is: 8.560665130615234\n",
      "Compute the Evaluation Score on the Teller\n",
      "background_image size is: torch.Size([32, 3, 128, 128])\n"
     ]
    }
   ],
   "source": [
    "teller_trainer.train()"
   ]
  },
  {
   "cell_type": "code",
   "execution_count": null,
   "metadata": {},
   "outputs": [],
   "source": []
  }
 ],
 "metadata": {
  "kernelspec": {
   "display_name": "Python 3",
   "language": "python",
   "name": "python3"
  },
  "language_info": {
   "codemirror_mode": {
    "name": "ipython",
    "version": 3
   },
   "file_extension": ".py",
   "mimetype": "text/x-python",
   "name": "python",
   "nbconvert_exporter": "python",
   "pygments_lexer": "ipython3",
   "version": "3.6.8"
  }
 },
 "nbformat": 4,
 "nbformat_minor": 2
}
